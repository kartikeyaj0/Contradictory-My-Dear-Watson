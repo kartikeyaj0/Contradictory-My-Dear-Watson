{
 "cells": [
  {
   "cell_type": "code",
   "execution_count": 1,
   "id": "2d4e67bf",
   "metadata": {
    "_cell_guid": "b1076dfc-b9ad-4769-8c92-a6c4dae69d19",
    "_uuid": "8f2839f25d086af736a60e9eeb907d3b93b6e0e5",
    "execution": {
     "iopub.execute_input": "2022-05-09T21:01:23.306420Z",
     "iopub.status.busy": "2022-05-09T21:01:23.306063Z",
     "iopub.status.idle": "2022-05-09T21:01:23.329178Z",
     "shell.execute_reply": "2022-05-09T21:01:23.328100Z"
    },
    "papermill": {
     "duration": 0.061487,
     "end_time": "2022-05-09T21:01:23.330959",
     "exception": false,
     "start_time": "2022-05-09T21:01:23.269472",
     "status": "completed"
    },
    "tags": []
   },
   "outputs": [
    {
     "name": "stdout",
     "output_type": "stream",
     "text": [
      "/kaggle/input/contradictory-my-dear-watson/sample_submission.csv\n",
      "/kaggle/input/contradictory-my-dear-watson/train.csv\n",
      "/kaggle/input/contradictory-my-dear-watson/test.csv\n",
      "/kaggle/input/translatedcsv/train_translated.csv\n",
      "/kaggle/input/translatedcsv/test_translated.csv\n"
     ]
    }
   ],
   "source": [
    "# This Python 3 environment comes with many helpful analytics libraries installed\n",
    "# It is defined by the kaggle/python Docker image: https://github.com/kaggle/docker-python\n",
    "# For example, here's several helpful packages to load\n",
    "\n",
    "import numpy as np # linear algebra\n",
    "import pandas as pd # data processing, CSV file I/O (e.g. pd.read_csv)\n",
    "\n",
    "# Input data files are available in the read-only \"../input/\" directory\n",
    "# For example, running this (by clicking run or pressing Shift+Enter) will list all files under the input directory\n",
    "\n",
    "import os\n",
    "for dirname, _, filenames in os.walk('/kaggle/input'):\n",
    "    for filename in filenames:\n",
    "        print(os.path.join(dirname, filename))\n",
    "\n",
    "# You can write up to 20GB to the current directory (/kaggle/working/) that gets preserved as output when you create a version using \"Save & Run All\" \n",
    "# You can also write temporary files to /kaggle/temp/, but they won't be saved outside of the current session"
   ]
  },
  {
   "cell_type": "code",
   "execution_count": 2,
   "id": "d2958727",
   "metadata": {
    "execution": {
     "iopub.execute_input": "2022-05-09T21:01:23.379187Z",
     "iopub.status.busy": "2022-05-09T21:01:23.378930Z",
     "iopub.status.idle": "2022-05-09T21:01:23.570066Z",
     "shell.execute_reply": "2022-05-09T21:01:23.568999Z"
    },
    "papermill": {
     "duration": 0.217377,
     "end_time": "2022-05-09T21:01:23.571947",
     "exception": false,
     "start_time": "2022-05-09T21:01:23.354570",
     "status": "completed"
    },
    "tags": []
   },
   "outputs": [],
   "source": [
    "train_data = pd.read_csv(\"../input/contradictory-my-dear-watson/train.csv\")\n",
    "test_data = pd.read_csv(\"../input/contradictory-my-dear-watson/test.csv\")"
   ]
  },
  {
   "cell_type": "code",
   "execution_count": 3,
   "id": "5e3cd19a",
   "metadata": {
    "execution": {
     "iopub.execute_input": "2022-05-09T21:01:23.636757Z",
     "iopub.status.busy": "2022-05-09T21:01:23.636351Z",
     "iopub.status.idle": "2022-05-09T21:01:23.652246Z",
     "shell.execute_reply": "2022-05-09T21:01:23.651766Z"
    },
    "papermill": {
     "duration": 0.053835,
     "end_time": "2022-05-09T21:01:23.653974",
     "exception": false,
     "start_time": "2022-05-09T21:01:23.600139",
     "status": "completed"
    },
    "tags": []
   },
   "outputs": [
    {
     "data": {
      "text/plain": [
       "array(['English', 'French', 'Thai', 'Turkish', 'Urdu', 'Russian',\n",
       "       'Bulgarian', 'German', 'Arabic', 'Chinese', 'Hindi', 'Swahili',\n",
       "       'Vietnamese', 'Spanish', 'Greek'], dtype=object)"
      ]
     },
     "execution_count": 3,
     "metadata": {},
     "output_type": "execute_result"
    }
   ],
   "source": [
    "train_data['language'].unique()"
   ]
  },
  {
   "cell_type": "code",
   "execution_count": 4,
   "id": "7294ff96",
   "metadata": {
    "execution": {
     "iopub.execute_input": "2022-05-09T21:01:23.724538Z",
     "iopub.status.busy": "2022-05-09T21:01:23.724120Z",
     "iopub.status.idle": "2022-05-09T21:01:25.311040Z",
     "shell.execute_reply": "2022-05-09T21:01:25.310095Z"
    },
    "papermill": {
     "duration": 1.624855,
     "end_time": "2022-05-09T21:01:25.313339",
     "exception": false,
     "start_time": "2022-05-09T21:01:23.688484",
     "status": "completed"
    },
    "tags": []
   },
   "outputs": [
    {
     "name": "stdout",
     "output_type": "stream",
     "text": [
      "['arabic', 'azerbaijani', 'bengali', 'danish', 'dutch', 'english', 'finnish', 'french', 'german', 'greek', 'hungarian', 'indonesian', 'italian', 'kazakh', 'nepali', 'norwegian', 'portuguese', 'romanian', 'russian', 'slovene', 'spanish', 'swedish', 'tajik', 'turkish']\n"
     ]
    }
   ],
   "source": [
    "from nltk.corpus import stopwords\n",
    "print(stopwords.fileids())"
   ]
  },
  {
   "cell_type": "markdown",
   "id": "c6677d2d",
   "metadata": {
    "papermill": {
     "duration": 0.034786,
     "end_time": "2022-05-09T21:01:25.384420",
     "exception": false,
     "start_time": "2022-05-09T21:01:25.349634",
     "status": "completed"
    },
    "tags": []
   },
   "source": [
    "Thai, Urdu, Bulgarian, chinese, hindi, swahili, vietnamese"
   ]
  },
  {
   "cell_type": "code",
   "execution_count": 5,
   "id": "366d154a",
   "metadata": {
    "execution": {
     "iopub.execute_input": "2022-05-09T21:01:25.456115Z",
     "iopub.status.busy": "2022-05-09T21:01:25.455841Z",
     "iopub.status.idle": "2022-05-09T21:01:25.602826Z",
     "shell.execute_reply": "2022-05-09T21:01:25.601819Z"
    },
    "papermill": {
     "duration": 0.185587,
     "end_time": "2022-05-09T21:01:25.605264",
     "exception": false,
     "start_time": "2022-05-09T21:01:25.419677",
     "status": "completed"
    },
    "tags": []
   },
   "outputs": [],
   "source": [
    "train_data = pd.read_csv(\"../input/translatedcsv/train_translated.csv\")\n",
    "test_data = pd.read_csv(\"../input/translatedcsv/test_translated.csv\")"
   ]
  },
  {
   "cell_type": "code",
   "execution_count": 6,
   "id": "52a9be77",
   "metadata": {
    "execution": {
     "iopub.execute_input": "2022-05-09T21:01:25.678685Z",
     "iopub.status.busy": "2022-05-09T21:01:25.678439Z",
     "iopub.status.idle": "2022-05-09T21:01:25.688734Z",
     "shell.execute_reply": "2022-05-09T21:01:25.687930Z"
    },
    "papermill": {
     "duration": 0.047825,
     "end_time": "2022-05-09T21:01:25.690087",
     "exception": false,
     "start_time": "2022-05-09T21:01:25.642262",
     "status": "completed"
    },
    "tags": []
   },
   "outputs": [],
   "source": [
    "r_train_data = train_data[['premise', 'hypothesis', 'label']]\n",
    "r_test_data = test_data[['premise', 'hypothesis']]"
   ]
  },
  {
   "cell_type": "code",
   "execution_count": 7,
   "id": "6e60f295",
   "metadata": {
    "execution": {
     "iopub.execute_input": "2022-05-09T21:01:25.737581Z",
     "iopub.status.busy": "2022-05-09T21:01:25.737348Z",
     "iopub.status.idle": "2022-05-09T21:01:25.740924Z",
     "shell.execute_reply": "2022-05-09T21:01:25.740097Z"
    },
    "papermill": {
     "duration": 0.029405,
     "end_time": "2022-05-09T21:01:25.742747",
     "exception": false,
     "start_time": "2022-05-09T21:01:25.713342",
     "status": "completed"
    },
    "tags": []
   },
   "outputs": [],
   "source": [
    "from sklearn.feature_extraction.text import CountVectorizer, TfidfVectorizer"
   ]
  },
  {
   "cell_type": "markdown",
   "id": "07874024",
   "metadata": {
    "papermill": {
     "duration": 0.023122,
     "end_time": "2022-05-09T21:01:25.789364",
     "exception": false,
     "start_time": "2022-05-09T21:01:25.766242",
     "status": "completed"
    },
    "tags": []
   },
   "source": [
    "Prefixes and suffix can be important for identifying contradictory sentences"
   ]
  },
  {
   "cell_type": "code",
   "execution_count": 8,
   "id": "c42cc110",
   "metadata": {
    "execution": {
     "iopub.execute_input": "2022-05-09T21:01:25.837419Z",
     "iopub.status.busy": "2022-05-09T21:01:25.836992Z",
     "iopub.status.idle": "2022-05-09T21:01:25.842721Z",
     "shell.execute_reply": "2022-05-09T21:01:25.842288Z"
    },
    "papermill": {
     "duration": 0.030963,
     "end_time": "2022-05-09T21:01:25.844272",
     "exception": false,
     "start_time": "2022-05-09T21:01:25.813309",
     "status": "completed"
    },
    "tags": []
   },
   "outputs": [],
   "source": [
    "stop_words = set(stopwords.words('english'))\n",
    "vectorizer = CountVectorizer(stop_words=stop_words)"
   ]
  },
  {
   "cell_type": "code",
   "execution_count": 9,
   "id": "951e79f8",
   "metadata": {
    "execution": {
     "iopub.execute_input": "2022-05-09T21:01:25.891654Z",
     "iopub.status.busy": "2022-05-09T21:01:25.891291Z",
     "iopub.status.idle": "2022-05-09T21:01:26.479958Z",
     "shell.execute_reply": "2022-05-09T21:01:26.479098Z"
    },
    "papermill": {
     "duration": 0.615305,
     "end_time": "2022-05-09T21:01:26.481953",
     "exception": false,
     "start_time": "2022-05-09T21:01:25.866648",
     "status": "completed"
    },
    "tags": []
   },
   "outputs": [
    {
     "data": {
      "text/plain": [
       "CountVectorizer(stop_words={'a', 'about', 'above', 'after', 'again', 'against',\n",
       "                            'ain', 'all', 'am', 'an', 'and', 'any', 'are',\n",
       "                            'aren', \"aren't\", 'as', 'at', 'be', 'because',\n",
       "                            'been', 'before', 'being', 'below', 'between',\n",
       "                            'both', 'but', 'by', 'can', 'couldn', \"couldn't\", ...})"
      ]
     },
     "execution_count": 9,
     "metadata": {},
     "output_type": "execute_result"
    }
   ],
   "source": [
    "vectorizer.fit(pd.concat([train_data['premise'], train_data['hypothesis']]))"
   ]
  },
  {
   "cell_type": "code",
   "execution_count": 10,
   "id": "8ed00f26",
   "metadata": {
    "execution": {
     "iopub.execute_input": "2022-05-09T21:01:26.530178Z",
     "iopub.status.busy": "2022-05-09T21:01:26.529857Z",
     "iopub.status.idle": "2022-05-09T21:01:26.558115Z",
     "shell.execute_reply": "2022-05-09T21:01:26.556837Z"
    },
    "papermill": {
     "duration": 0.054332,
     "end_time": "2022-05-09T21:01:26.559900",
     "exception": false,
     "start_time": "2022-05-09T21:01:26.505568",
     "status": "completed"
    },
    "tags": []
   },
   "outputs": [
    {
     "name": "stderr",
     "output_type": "stream",
     "text": [
      "/opt/conda/lib/python3.7/site-packages/sklearn/utils/deprecation.py:87: FutureWarning: Function get_feature_names is deprecated; get_feature_names is deprecated in 1.0 and will be removed in 1.2. Please use get_feature_names_out instead.\n",
      "  warnings.warn(msg, category=FutureWarning)\n"
     ]
    },
    {
     "data": {
      "text/plain": [
       "17765"
      ]
     },
     "execution_count": 10,
     "metadata": {},
     "output_type": "execute_result"
    }
   ],
   "source": [
    "len(vectorizer.get_feature_names())"
   ]
  },
  {
   "cell_type": "code",
   "execution_count": 11,
   "id": "c7877d03",
   "metadata": {
    "execution": {
     "iopub.execute_input": "2022-05-09T21:01:26.634622Z",
     "iopub.status.busy": "2022-05-09T21:01:26.634359Z",
     "iopub.status.idle": "2022-05-09T21:01:27.401419Z",
     "shell.execute_reply": "2022-05-09T21:01:27.400236Z"
    },
    "papermill": {
     "duration": 0.807378,
     "end_time": "2022-05-09T21:01:27.404095",
     "exception": false,
     "start_time": "2022-05-09T21:01:26.596717",
     "status": "completed"
    },
    "tags": []
   },
   "outputs": [],
   "source": [
    "train_premise = vectorizer.transform(train_data['premise'])\n",
    "train_hypothesis = vectorizer.transform(train_data['hypothesis'])\n",
    "\n",
    "test_premise = vectorizer.transform(test_data['premise'])\n",
    "test_hypothesis = vectorizer.transform(test_data['hypothesis'])"
   ]
  },
  {
   "cell_type": "code",
   "execution_count": 12,
   "id": "c983ca5e",
   "metadata": {
    "execution": {
     "iopub.execute_input": "2022-05-09T21:01:27.479271Z",
     "iopub.status.busy": "2022-05-09T21:01:27.479007Z",
     "iopub.status.idle": "2022-05-09T21:01:27.484336Z",
     "shell.execute_reply": "2022-05-09T21:01:27.483727Z"
    },
    "papermill": {
     "duration": 0.045907,
     "end_time": "2022-05-09T21:01:27.486839",
     "exception": false,
     "start_time": "2022-05-09T21:01:27.440932",
     "status": "completed"
    },
    "tags": []
   },
   "outputs": [
    {
     "name": "stdout",
     "output_type": "stream",
     "text": [
      "(12120, 17765)\n",
      "(12120, 17765)\n",
      "(5195, 17765)\n",
      "(5195, 17765)\n"
     ]
    }
   ],
   "source": [
    "print(train_premise.shape)\n",
    "print(train_hypothesis.shape)\n",
    "print(test_premise.shape)\n",
    "print(test_hypothesis.shape)"
   ]
  },
  {
   "cell_type": "code",
   "execution_count": 13,
   "id": "ad6a8a07",
   "metadata": {
    "execution": {
     "iopub.execute_input": "2022-05-09T21:01:27.561266Z",
     "iopub.status.busy": "2022-05-09T21:01:27.561052Z",
     "iopub.status.idle": "2022-05-09T21:01:27.564662Z",
     "shell.execute_reply": "2022-05-09T21:01:27.564109Z"
    },
    "papermill": {
     "duration": 0.043197,
     "end_time": "2022-05-09T21:01:27.566502",
     "exception": false,
     "start_time": "2022-05-09T21:01:27.523305",
     "status": "completed"
    },
    "tags": []
   },
   "outputs": [],
   "source": [
    "from scipy.sparse import hstack"
   ]
  },
  {
   "cell_type": "code",
   "execution_count": 14,
   "id": "3f9aab00",
   "metadata": {
    "execution": {
     "iopub.execute_input": "2022-05-09T21:01:27.630498Z",
     "iopub.status.busy": "2022-05-09T21:01:27.630279Z",
     "iopub.status.idle": "2022-05-09T21:01:27.642437Z",
     "shell.execute_reply": "2022-05-09T21:01:27.641856Z"
    },
    "papermill": {
     "duration": 0.039928,
     "end_time": "2022-05-09T21:01:27.644595",
     "exception": false,
     "start_time": "2022-05-09T21:01:27.604667",
     "status": "completed"
    },
    "tags": []
   },
   "outputs": [],
   "source": [
    "final_train = hstack((train_premise, train_hypothesis))\n",
    "final_test = hstack((test_premise, test_hypothesis))"
   ]
  },
  {
   "cell_type": "code",
   "execution_count": 15,
   "id": "af6c686f",
   "metadata": {
    "execution": {
     "iopub.execute_input": "2022-05-09T21:01:27.719212Z",
     "iopub.status.busy": "2022-05-09T21:01:27.718941Z",
     "iopub.status.idle": "2022-05-09T21:01:27.724649Z",
     "shell.execute_reply": "2022-05-09T21:01:27.723663Z"
    },
    "papermill": {
     "duration": 0.045275,
     "end_time": "2022-05-09T21:01:27.726306",
     "exception": false,
     "start_time": "2022-05-09T21:01:27.681031",
     "status": "completed"
    },
    "tags": []
   },
   "outputs": [
    {
     "name": "stdout",
     "output_type": "stream",
     "text": [
      "(12120, 35530)\n",
      "(5195, 35530)\n"
     ]
    }
   ],
   "source": [
    "print(final_train.shape)\n",
    "print(final_test.shape)"
   ]
  },
  {
   "cell_type": "code",
   "execution_count": 16,
   "id": "4a6ab565",
   "metadata": {
    "execution": {
     "iopub.execute_input": "2022-05-09T21:01:27.776531Z",
     "iopub.status.busy": "2022-05-09T21:01:27.775607Z",
     "iopub.status.idle": "2022-05-09T21:01:27.904418Z",
     "shell.execute_reply": "2022-05-09T21:01:27.903400Z"
    },
    "papermill": {
     "duration": 0.155958,
     "end_time": "2022-05-09T21:01:27.906334",
     "exception": false,
     "start_time": "2022-05-09T21:01:27.750376",
     "status": "completed"
    },
    "tags": []
   },
   "outputs": [],
   "source": [
    "from sklearn.ensemble import GradientBoostingClassifier"
   ]
  },
  {
   "cell_type": "code",
   "execution_count": 17,
   "id": "285aa9f3",
   "metadata": {
    "execution": {
     "iopub.execute_input": "2022-05-09T21:01:27.957145Z",
     "iopub.status.busy": "2022-05-09T21:01:27.956892Z",
     "iopub.status.idle": "2022-05-09T21:01:27.960795Z",
     "shell.execute_reply": "2022-05-09T21:01:27.960038Z"
    },
    "papermill": {
     "duration": 0.031831,
     "end_time": "2022-05-09T21:01:27.962774",
     "exception": false,
     "start_time": "2022-05-09T21:01:27.930943",
     "status": "completed"
    },
    "tags": []
   },
   "outputs": [],
   "source": [
    "from sklearn.model_selection import train_test_split"
   ]
  },
  {
   "cell_type": "code",
   "execution_count": 18,
   "id": "26e47815",
   "metadata": {
    "execution": {
     "iopub.execute_input": "2022-05-09T21:01:28.012953Z",
     "iopub.status.busy": "2022-05-09T21:01:28.011929Z",
     "iopub.status.idle": "2022-05-09T21:01:28.023562Z",
     "shell.execute_reply": "2022-05-09T21:01:28.022689Z"
    },
    "papermill": {
     "duration": 0.038605,
     "end_time": "2022-05-09T21:01:28.025398",
     "exception": false,
     "start_time": "2022-05-09T21:01:27.986793",
     "status": "completed"
    },
    "tags": []
   },
   "outputs": [],
   "source": [
    "x_train, x_test, y_train, y_test = train_test_split(final_train, train_data['label'],\n",
    "                                                    test_size=0.2, shuffle=True,\n",
    "                                                    random_state=0)"
   ]
  },
  {
   "cell_type": "code",
   "execution_count": 19,
   "id": "d952ddd6",
   "metadata": {
    "execution": {
     "iopub.execute_input": "2022-05-09T21:01:28.100571Z",
     "iopub.status.busy": "2022-05-09T21:01:28.100322Z",
     "iopub.status.idle": "2022-05-09T21:01:28.104468Z",
     "shell.execute_reply": "2022-05-09T21:01:28.103461Z"
    },
    "papermill": {
     "duration": 0.043736,
     "end_time": "2022-05-09T21:01:28.106128",
     "exception": false,
     "start_time": "2022-05-09T21:01:28.062392",
     "status": "completed"
    },
    "tags": []
   },
   "outputs": [],
   "source": [
    "clf = GradientBoostingClassifier(n_estimators=300, max_depth=2, learning_rate=0.03)"
   ]
  },
  {
   "cell_type": "code",
   "execution_count": 20,
   "id": "e7afb545",
   "metadata": {
    "execution": {
     "iopub.execute_input": "2022-05-09T21:01:28.181371Z",
     "iopub.status.busy": "2022-05-09T21:01:28.180715Z",
     "iopub.status.idle": "2022-05-09T21:03:09.381534Z",
     "shell.execute_reply": "2022-05-09T21:03:09.380583Z"
    },
    "papermill": {
     "duration": 101.27816,
     "end_time": "2022-05-09T21:03:09.420840",
     "exception": false,
     "start_time": "2022-05-09T21:01:28.142680",
     "status": "completed"
    },
    "tags": []
   },
   "outputs": [
    {
     "data": {
      "text/plain": [
       "GradientBoostingClassifier(learning_rate=0.03, max_depth=2, n_estimators=300)"
      ]
     },
     "execution_count": 20,
     "metadata": {},
     "output_type": "execute_result"
    }
   ],
   "source": [
    "clf.fit(x_train, y_train)"
   ]
  },
  {
   "cell_type": "code",
   "execution_count": 21,
   "id": "8cf8dbd8",
   "metadata": {
    "execution": {
     "iopub.execute_input": "2022-05-09T21:03:09.495637Z",
     "iopub.status.busy": "2022-05-09T21:03:09.495325Z",
     "iopub.status.idle": "2022-05-09T21:03:09.580236Z",
     "shell.execute_reply": "2022-05-09T21:03:09.578783Z"
    },
    "papermill": {
     "duration": 0.124775,
     "end_time": "2022-05-09T21:03:09.582249",
     "exception": false,
     "start_time": "2022-05-09T21:03:09.457474",
     "status": "completed"
    },
    "tags": []
   },
   "outputs": [
    {
     "name": "stdout",
     "output_type": "stream",
     "text": [
      "0.4591584158415842\n",
      "0.3882013201320132\n"
     ]
    }
   ],
   "source": [
    "print(clf.score(x_train, y_train))\n",
    "print(clf.score(x_test, y_test))"
   ]
  },
  {
   "cell_type": "code",
   "execution_count": 22,
   "id": "a370fd74",
   "metadata": {
    "execution": {
     "iopub.execute_input": "2022-05-09T21:03:09.658580Z",
     "iopub.status.busy": "2022-05-09T21:03:09.658377Z",
     "iopub.status.idle": "2022-05-09T21:03:09.661899Z",
     "shell.execute_reply": "2022-05-09T21:03:09.661029Z"
    },
    "papermill": {
     "duration": 0.044091,
     "end_time": "2022-05-09T21:03:09.663654",
     "exception": false,
     "start_time": "2022-05-09T21:03:09.619563",
     "status": "completed"
    },
    "tags": []
   },
   "outputs": [],
   "source": [
    "# n_estimator =100, default\n",
    "# 0.503197194719472\n",
    "# 0.3882013201320132\n",
    "# n_estimator =200\n",
    "# 0.564253300330033\n",
    "# 0.38283828382838286\n",
    "# n_estimators=200, max_depth=2\n",
    "# 0.5106229372937293\n",
    "# 0.38613861386138615\n",
    "# GradientBoostingClassifier(max_depth=2, n_estimators=300)\n",
    "# 0.5429042904290429\n",
    "# 0.3811881188118812\n",
    "# GradientBoostingClassifier(learning_rate=0.01, max_depth=2, n_estimators=300)\n",
    "# 0.4178011551155115\n",
    "# 0.375\n"
   ]
  },
  {
   "cell_type": "code",
   "execution_count": 23,
   "id": "9d3c2b37",
   "metadata": {
    "execution": {
     "iopub.execute_input": "2022-05-09T21:03:09.739786Z",
     "iopub.status.busy": "2022-05-09T21:03:09.739361Z",
     "iopub.status.idle": "2022-05-09T21:03:09.800989Z",
     "shell.execute_reply": "2022-05-09T21:03:09.800333Z"
    },
    "papermill": {
     "duration": 0.102258,
     "end_time": "2022-05-09T21:03:09.802991",
     "exception": false,
     "start_time": "2022-05-09T21:03:09.700733",
     "status": "completed"
    },
    "tags": []
   },
   "outputs": [],
   "source": [
    "predictions = [np.argmax(i) for i in clf.predict(final_test)]"
   ]
  },
  {
   "cell_type": "code",
   "execution_count": 24,
   "id": "e033b599",
   "metadata": {
    "execution": {
     "iopub.execute_input": "2022-05-09T21:03:09.855624Z",
     "iopub.status.busy": "2022-05-09T21:03:09.855216Z",
     "iopub.status.idle": "2022-05-09T21:03:09.871529Z",
     "shell.execute_reply": "2022-05-09T21:03:09.871063Z"
    },
    "papermill": {
     "duration": 0.044264,
     "end_time": "2022-05-09T21:03:09.872849",
     "exception": false,
     "start_time": "2022-05-09T21:03:09.828585",
     "status": "completed"
    },
    "tags": []
   },
   "outputs": [
    {
     "data": {
      "text/html": [
       "<div>\n",
       "<style scoped>\n",
       "    .dataframe tbody tr th:only-of-type {\n",
       "        vertical-align: middle;\n",
       "    }\n",
       "\n",
       "    .dataframe tbody tr th {\n",
       "        vertical-align: top;\n",
       "    }\n",
       "\n",
       "    .dataframe thead th {\n",
       "        text-align: right;\n",
       "    }\n",
       "</style>\n",
       "<table border=\"1\" class=\"dataframe\">\n",
       "  <thead>\n",
       "    <tr style=\"text-align: right;\">\n",
       "      <th></th>\n",
       "      <th>id</th>\n",
       "      <th>prediction</th>\n",
       "    </tr>\n",
       "  </thead>\n",
       "  <tbody>\n",
       "    <tr>\n",
       "      <th>0</th>\n",
       "      <td>c6d58c3f69</td>\n",
       "      <td>0</td>\n",
       "    </tr>\n",
       "    <tr>\n",
       "      <th>1</th>\n",
       "      <td>cefcc82292</td>\n",
       "      <td>0</td>\n",
       "    </tr>\n",
       "    <tr>\n",
       "      <th>2</th>\n",
       "      <td>e98005252c</td>\n",
       "      <td>0</td>\n",
       "    </tr>\n",
       "    <tr>\n",
       "      <th>3</th>\n",
       "      <td>58518c10ba</td>\n",
       "      <td>0</td>\n",
       "    </tr>\n",
       "    <tr>\n",
       "      <th>4</th>\n",
       "      <td>c32b0d16df</td>\n",
       "      <td>0</td>\n",
       "    </tr>\n",
       "  </tbody>\n",
       "</table>\n",
       "</div>"
      ],
      "text/plain": [
       "           id  prediction\n",
       "0  c6d58c3f69           0\n",
       "1  cefcc82292           0\n",
       "2  e98005252c           0\n",
       "3  58518c10ba           0\n",
       "4  c32b0d16df           0"
      ]
     },
     "execution_count": 24,
     "metadata": {},
     "output_type": "execute_result"
    }
   ],
   "source": [
    "submission = test_data.id.copy().to_frame()\n",
    "submission['prediction'] = predictions\n",
    "\n",
    "submission.head()"
   ]
  },
  {
   "cell_type": "code",
   "execution_count": 25,
   "id": "0a2d41f5",
   "metadata": {
    "execution": {
     "iopub.execute_input": "2022-05-09T21:03:09.925762Z",
     "iopub.status.busy": "2022-05-09T21:03:09.925397Z",
     "iopub.status.idle": "2022-05-09T21:03:09.940227Z",
     "shell.execute_reply": "2022-05-09T21:03:09.939644Z"
    },
    "papermill": {
     "duration": 0.043475,
     "end_time": "2022-05-09T21:03:09.941799",
     "exception": false,
     "start_time": "2022-05-09T21:03:09.898324",
     "status": "completed"
    },
    "tags": []
   },
   "outputs": [],
   "source": [
    "submission.to_csv(\"submission.csv\", index = False)"
   ]
  },
  {
   "cell_type": "code",
   "execution_count": null,
   "id": "b1c586a2",
   "metadata": {
    "papermill": {
     "duration": 0.025494,
     "end_time": "2022-05-09T21:03:09.993618",
     "exception": false,
     "start_time": "2022-05-09T21:03:09.968124",
     "status": "completed"
    },
    "tags": []
   },
   "outputs": [],
   "source": []
  }
 ],
 "metadata": {
  "kernelspec": {
   "display_name": "Python 3",
   "language": "python",
   "name": "python3"
  },
  "language_info": {
   "codemirror_mode": {
    "name": "ipython",
    "version": 3
   },
   "file_extension": ".py",
   "mimetype": "text/x-python",
   "name": "python",
   "nbconvert_exporter": "python",
   "pygments_lexer": "ipython3",
   "version": "3.7.12"
  },
  "papermill": {
   "default_parameters": {},
   "duration": 117.876154,
   "end_time": "2022-05-09T21:03:10.939447",
   "environment_variables": {},
   "exception": null,
   "input_path": "__notebook__.ipynb",
   "output_path": "__notebook__.ipynb",
   "parameters": {},
   "start_time": "2022-05-09T21:01:13.063293",
   "version": "2.3.4"
  }
 },
 "nbformat": 4,
 "nbformat_minor": 5
}
